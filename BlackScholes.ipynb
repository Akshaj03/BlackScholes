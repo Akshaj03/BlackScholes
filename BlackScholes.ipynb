{
 "cells": [
  {
   "cell_type": "code",
   "execution_count": 27,
   "id": "5570a59e",
   "metadata": {},
   "outputs": [
    {
     "name": "stdout",
     "output_type": "stream",
     "text": [
      "Difference:  6 days, 0:00:00\n",
      "Total difference in minutes:  8640.0\n",
      "Option price is:  151.78\n"
     ]
    }
   ],
   "source": [
    "import numpy as np \n",
    "from scipy.stats import norm \n",
    "\n",
    "#define variables\n",
    "r=0.1\n",
    "S=19265.80\n",
    "K=19150\n",
    "from time import time\n",
    "t0 = time()\n",
    "import datetime\n",
    "\n",
    "#datetime(year, month, day, hour, minute, second)\n",
    "\n",
    "a_R = datetime.datetime(2023, 8, 31, 15, 30, 0)\n",
    "b_R = datetime.datetime(2023, 8, 25, 15, 30, 0)\n",
    "\n",
    "# returns time diffrence \n",
    "T = a_R-b_R\n",
    "print('Difference: ', T)\n",
    "minutes = T.total_seconds() / 60\n",
    "print('Total difference in minutes: ', minutes)\n",
    "T = minutes/(24*60*365)\n",
    "sigma=0.0445\n",
    "\n",
    "def blackScholes(r,S,K,T,sigma,type=\"C\"):\n",
    "    \"Calculate BS option price for a call/put\"\n",
    "    d1 = (np.log(S/K) + (r + sigma**2/2)*T)/(sigma*np.sqrt(T))\n",
    "    d2 = d1 - sigma*np.sqrt(T)\n",
    "    try:\n",
    "        if type ==\"C\":\n",
    "            price = S*norm.cdf(d1, 0, 1) - K*np.exp(-r*T)*norm.cdf(d2, 0, 1)\n",
    "        elif type == \"P\":\n",
    "            price = S*np.exp(-r*T)*norm.cdf(-d2, 0, 1) - S*norm.cdf(-d1, 0, 1)\n",
    "        return price     \n",
    "    except:\n",
    "        print(\"Please confirm all option parameters above!!!\")  \n",
    "\n",
    "\n",
    "print(\"Option price is: \", round(blackScholes(r,S,K,T,sigma,type=\"C\"), 2) )"
   ]
  },
  {
   "cell_type": "code",
   "execution_count": null,
   "id": "af876c06",
   "metadata": {},
   "outputs": [],
   "source": []
  }
 ],
 "metadata": {
  "kernelspec": {
   "display_name": "Python 3 (ipykernel)",
   "language": "python",
   "name": "python3"
  },
  "language_info": {
   "codemirror_mode": {
    "name": "ipython",
    "version": 3
   },
   "file_extension": ".py",
   "mimetype": "text/x-python",
   "name": "python",
   "nbconvert_exporter": "python",
   "pygments_lexer": "ipython3",
   "version": "3.9.13"
  }
 },
 "nbformat": 4,
 "nbformat_minor": 5
}
